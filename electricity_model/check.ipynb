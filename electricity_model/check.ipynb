{
 "cells": [
  {
   "cell_type": "code",
   "execution_count": 17,
   "metadata": {},
   "outputs": [
    {
     "name": "stdout",
     "output_type": "stream",
     "text": [
      "WARNING:tensorflow:6 out of the last 6 calls to <function Model.make_predict_function.<locals>.predict_function at 0x0000026650489A80> triggered tf.function retracing. Tracing is expensive and the excessive number of tracings could be due to (1) creating @tf.function repeatedly in a loop, (2) passing tensors with different shapes, (3) passing Python objects instead of tensors. For (1), please define your @tf.function outside of the loop. For (2), @tf.function has reduce_retracing=True option that can avoid unnecessary retracing. For (3), please refer to https://www.tensorflow.org/guide/function#controlling_retracing and https://www.tensorflow.org/api_docs/python/tf/function for  more details.\n",
      "1/1 [==============================] - 0s 233ms/step\n"
     ]
    },
    {
     "data": {
      "application/vnd.plotly.v1+json": {
       "config": {
        "plotlyServerURL": "https://plot.ly"
       },
       "data": [
        {
         "mode": "lines+markers",
         "name": "Predictions",
         "type": "scatter",
         "x": [
          "2015-01-03T00:00:00",
          "2015-01-03T01:00:00",
          "2015-01-03T02:00:00",
          "2015-01-03T03:00:00",
          "2015-01-03T04:00:00",
          "2015-01-03T05:00:00",
          "2015-01-03T06:00:00",
          "2015-01-03T07:00:00",
          "2015-01-03T08:00:00",
          "2015-01-03T09:00:00",
          "2015-01-03T10:00:00",
          "2015-01-03T11:00:00",
          "2015-01-03T12:00:00",
          "2015-01-03T13:00:00",
          "2015-01-03T14:00:00",
          "2015-01-03T15:00:00",
          "2015-01-03T16:00:00",
          "2015-01-03T17:00:00",
          "2015-01-03T18:00:00",
          "2015-01-03T19:00:00",
          "2015-01-03T20:00:00",
          "2015-01-03T21:00:00",
          "2015-01-03T22:00:00",
          "2015-01-03T23:00:00"
         ],
         "y": [
          987.24677,
          954.4043,
          929.406,
          913.1675,
          908.29297,
          917.3434,
          941.0176,
          979.0718,
          1027.7795,
          1080.9124,
          1131.4873,
          1174.3147,
          1206.7004,
          1227.5962,
          1236.9426,
          1238.905,
          1233.2245,
          1218.9606,
          1198.8848,
          1173.8148,
          1145.2891,
          1115.1294,
          1085.2415,
          1057.7247
         ]
        }
       ],
       "layout": {
        "template": {
         "data": {
          "bar": [
           {
            "error_x": {
             "color": "#2a3f5f"
            },
            "error_y": {
             "color": "#2a3f5f"
            },
            "marker": {
             "line": {
              "color": "#E5ECF6",
              "width": 0.5
             },
             "pattern": {
              "fillmode": "overlay",
              "size": 10,
              "solidity": 0.2
             }
            },
            "type": "bar"
           }
          ],
          "barpolar": [
           {
            "marker": {
             "line": {
              "color": "#E5ECF6",
              "width": 0.5
             },
             "pattern": {
              "fillmode": "overlay",
              "size": 10,
              "solidity": 0.2
             }
            },
            "type": "barpolar"
           }
          ],
          "carpet": [
           {
            "aaxis": {
             "endlinecolor": "#2a3f5f",
             "gridcolor": "white",
             "linecolor": "white",
             "minorgridcolor": "white",
             "startlinecolor": "#2a3f5f"
            },
            "baxis": {
             "endlinecolor": "#2a3f5f",
             "gridcolor": "white",
             "linecolor": "white",
             "minorgridcolor": "white",
             "startlinecolor": "#2a3f5f"
            },
            "type": "carpet"
           }
          ],
          "choropleth": [
           {
            "colorbar": {
             "outlinewidth": 0,
             "ticks": ""
            },
            "type": "choropleth"
           }
          ],
          "contour": [
           {
            "colorbar": {
             "outlinewidth": 0,
             "ticks": ""
            },
            "colorscale": [
             [
              0,
              "#0d0887"
             ],
             [
              0.1111111111111111,
              "#46039f"
             ],
             [
              0.2222222222222222,
              "#7201a8"
             ],
             [
              0.3333333333333333,
              "#9c179e"
             ],
             [
              0.4444444444444444,
              "#bd3786"
             ],
             [
              0.5555555555555556,
              "#d8576b"
             ],
             [
              0.6666666666666666,
              "#ed7953"
             ],
             [
              0.7777777777777778,
              "#fb9f3a"
             ],
             [
              0.8888888888888888,
              "#fdca26"
             ],
             [
              1,
              "#f0f921"
             ]
            ],
            "type": "contour"
           }
          ],
          "contourcarpet": [
           {
            "colorbar": {
             "outlinewidth": 0,
             "ticks": ""
            },
            "type": "contourcarpet"
           }
          ],
          "heatmap": [
           {
            "colorbar": {
             "outlinewidth": 0,
             "ticks": ""
            },
            "colorscale": [
             [
              0,
              "#0d0887"
             ],
             [
              0.1111111111111111,
              "#46039f"
             ],
             [
              0.2222222222222222,
              "#7201a8"
             ],
             [
              0.3333333333333333,
              "#9c179e"
             ],
             [
              0.4444444444444444,
              "#bd3786"
             ],
             [
              0.5555555555555556,
              "#d8576b"
             ],
             [
              0.6666666666666666,
              "#ed7953"
             ],
             [
              0.7777777777777778,
              "#fb9f3a"
             ],
             [
              0.8888888888888888,
              "#fdca26"
             ],
             [
              1,
              "#f0f921"
             ]
            ],
            "type": "heatmap"
           }
          ],
          "heatmapgl": [
           {
            "colorbar": {
             "outlinewidth": 0,
             "ticks": ""
            },
            "colorscale": [
             [
              0,
              "#0d0887"
             ],
             [
              0.1111111111111111,
              "#46039f"
             ],
             [
              0.2222222222222222,
              "#7201a8"
             ],
             [
              0.3333333333333333,
              "#9c179e"
             ],
             [
              0.4444444444444444,
              "#bd3786"
             ],
             [
              0.5555555555555556,
              "#d8576b"
             ],
             [
              0.6666666666666666,
              "#ed7953"
             ],
             [
              0.7777777777777778,
              "#fb9f3a"
             ],
             [
              0.8888888888888888,
              "#fdca26"
             ],
             [
              1,
              "#f0f921"
             ]
            ],
            "type": "heatmapgl"
           }
          ],
          "histogram": [
           {
            "marker": {
             "pattern": {
              "fillmode": "overlay",
              "size": 10,
              "solidity": 0.2
             }
            },
            "type": "histogram"
           }
          ],
          "histogram2d": [
           {
            "colorbar": {
             "outlinewidth": 0,
             "ticks": ""
            },
            "colorscale": [
             [
              0,
              "#0d0887"
             ],
             [
              0.1111111111111111,
              "#46039f"
             ],
             [
              0.2222222222222222,
              "#7201a8"
             ],
             [
              0.3333333333333333,
              "#9c179e"
             ],
             [
              0.4444444444444444,
              "#bd3786"
             ],
             [
              0.5555555555555556,
              "#d8576b"
             ],
             [
              0.6666666666666666,
              "#ed7953"
             ],
             [
              0.7777777777777778,
              "#fb9f3a"
             ],
             [
              0.8888888888888888,
              "#fdca26"
             ],
             [
              1,
              "#f0f921"
             ]
            ],
            "type": "histogram2d"
           }
          ],
          "histogram2dcontour": [
           {
            "colorbar": {
             "outlinewidth": 0,
             "ticks": ""
            },
            "colorscale": [
             [
              0,
              "#0d0887"
             ],
             [
              0.1111111111111111,
              "#46039f"
             ],
             [
              0.2222222222222222,
              "#7201a8"
             ],
             [
              0.3333333333333333,
              "#9c179e"
             ],
             [
              0.4444444444444444,
              "#bd3786"
             ],
             [
              0.5555555555555556,
              "#d8576b"
             ],
             [
              0.6666666666666666,
              "#ed7953"
             ],
             [
              0.7777777777777778,
              "#fb9f3a"
             ],
             [
              0.8888888888888888,
              "#fdca26"
             ],
             [
              1,
              "#f0f921"
             ]
            ],
            "type": "histogram2dcontour"
           }
          ],
          "mesh3d": [
           {
            "colorbar": {
             "outlinewidth": 0,
             "ticks": ""
            },
            "type": "mesh3d"
           }
          ],
          "parcoords": [
           {
            "line": {
             "colorbar": {
              "outlinewidth": 0,
              "ticks": ""
             }
            },
            "type": "parcoords"
           }
          ],
          "pie": [
           {
            "automargin": true,
            "type": "pie"
           }
          ],
          "scatter": [
           {
            "fillpattern": {
             "fillmode": "overlay",
             "size": 10,
             "solidity": 0.2
            },
            "type": "scatter"
           }
          ],
          "scatter3d": [
           {
            "line": {
             "colorbar": {
              "outlinewidth": 0,
              "ticks": ""
             }
            },
            "marker": {
             "colorbar": {
              "outlinewidth": 0,
              "ticks": ""
             }
            },
            "type": "scatter3d"
           }
          ],
          "scattercarpet": [
           {
            "marker": {
             "colorbar": {
              "outlinewidth": 0,
              "ticks": ""
             }
            },
            "type": "scattercarpet"
           }
          ],
          "scattergeo": [
           {
            "marker": {
             "colorbar": {
              "outlinewidth": 0,
              "ticks": ""
             }
            },
            "type": "scattergeo"
           }
          ],
          "scattergl": [
           {
            "marker": {
             "colorbar": {
              "outlinewidth": 0,
              "ticks": ""
             }
            },
            "type": "scattergl"
           }
          ],
          "scattermapbox": [
           {
            "marker": {
             "colorbar": {
              "outlinewidth": 0,
              "ticks": ""
             }
            },
            "type": "scattermapbox"
           }
          ],
          "scatterpolar": [
           {
            "marker": {
             "colorbar": {
              "outlinewidth": 0,
              "ticks": ""
             }
            },
            "type": "scatterpolar"
           }
          ],
          "scatterpolargl": [
           {
            "marker": {
             "colorbar": {
              "outlinewidth": 0,
              "ticks": ""
             }
            },
            "type": "scatterpolargl"
           }
          ],
          "scatterternary": [
           {
            "marker": {
             "colorbar": {
              "outlinewidth": 0,
              "ticks": ""
             }
            },
            "type": "scatterternary"
           }
          ],
          "surface": [
           {
            "colorbar": {
             "outlinewidth": 0,
             "ticks": ""
            },
            "colorscale": [
             [
              0,
              "#0d0887"
             ],
             [
              0.1111111111111111,
              "#46039f"
             ],
             [
              0.2222222222222222,
              "#7201a8"
             ],
             [
              0.3333333333333333,
              "#9c179e"
             ],
             [
              0.4444444444444444,
              "#bd3786"
             ],
             [
              0.5555555555555556,
              "#d8576b"
             ],
             [
              0.6666666666666666,
              "#ed7953"
             ],
             [
              0.7777777777777778,
              "#fb9f3a"
             ],
             [
              0.8888888888888888,
              "#fdca26"
             ],
             [
              1,
              "#f0f921"
             ]
            ],
            "type": "surface"
           }
          ],
          "table": [
           {
            "cells": {
             "fill": {
              "color": "#EBF0F8"
             },
             "line": {
              "color": "white"
             }
            },
            "header": {
             "fill": {
              "color": "#C8D4E3"
             },
             "line": {
              "color": "white"
             }
            },
            "type": "table"
           }
          ]
         },
         "layout": {
          "annotationdefaults": {
           "arrowcolor": "#2a3f5f",
           "arrowhead": 0,
           "arrowwidth": 1
          },
          "autotypenumbers": "strict",
          "coloraxis": {
           "colorbar": {
            "outlinewidth": 0,
            "ticks": ""
           }
          },
          "colorscale": {
           "diverging": [
            [
             0,
             "#8e0152"
            ],
            [
             0.1,
             "#c51b7d"
            ],
            [
             0.2,
             "#de77ae"
            ],
            [
             0.3,
             "#f1b6da"
            ],
            [
             0.4,
             "#fde0ef"
            ],
            [
             0.5,
             "#f7f7f7"
            ],
            [
             0.6,
             "#e6f5d0"
            ],
            [
             0.7,
             "#b8e186"
            ],
            [
             0.8,
             "#7fbc41"
            ],
            [
             0.9,
             "#4d9221"
            ],
            [
             1,
             "#276419"
            ]
           ],
           "sequential": [
            [
             0,
             "#0d0887"
            ],
            [
             0.1111111111111111,
             "#46039f"
            ],
            [
             0.2222222222222222,
             "#7201a8"
            ],
            [
             0.3333333333333333,
             "#9c179e"
            ],
            [
             0.4444444444444444,
             "#bd3786"
            ],
            [
             0.5555555555555556,
             "#d8576b"
            ],
            [
             0.6666666666666666,
             "#ed7953"
            ],
            [
             0.7777777777777778,
             "#fb9f3a"
            ],
            [
             0.8888888888888888,
             "#fdca26"
            ],
            [
             1,
             "#f0f921"
            ]
           ],
           "sequentialminus": [
            [
             0,
             "#0d0887"
            ],
            [
             0.1111111111111111,
             "#46039f"
            ],
            [
             0.2222222222222222,
             "#7201a8"
            ],
            [
             0.3333333333333333,
             "#9c179e"
            ],
            [
             0.4444444444444444,
             "#bd3786"
            ],
            [
             0.5555555555555556,
             "#d8576b"
            ],
            [
             0.6666666666666666,
             "#ed7953"
            ],
            [
             0.7777777777777778,
             "#fb9f3a"
            ],
            [
             0.8888888888888888,
             "#fdca26"
            ],
            [
             1,
             "#f0f921"
            ]
           ]
          },
          "colorway": [
           "#636efa",
           "#EF553B",
           "#00cc96",
           "#ab63fa",
           "#FFA15A",
           "#19d3f3",
           "#FF6692",
           "#B6E880",
           "#FF97FF",
           "#FECB52"
          ],
          "font": {
           "color": "#2a3f5f"
          },
          "geo": {
           "bgcolor": "white",
           "lakecolor": "white",
           "landcolor": "#E5ECF6",
           "showlakes": true,
           "showland": true,
           "subunitcolor": "white"
          },
          "hoverlabel": {
           "align": "left"
          },
          "hovermode": "closest",
          "mapbox": {
           "style": "light"
          },
          "paper_bgcolor": "white",
          "plot_bgcolor": "#E5ECF6",
          "polar": {
           "angularaxis": {
            "gridcolor": "white",
            "linecolor": "white",
            "ticks": ""
           },
           "bgcolor": "#E5ECF6",
           "radialaxis": {
            "gridcolor": "white",
            "linecolor": "white",
            "ticks": ""
           }
          },
          "scene": {
           "xaxis": {
            "backgroundcolor": "#E5ECF6",
            "gridcolor": "white",
            "gridwidth": 2,
            "linecolor": "white",
            "showbackground": true,
            "ticks": "",
            "zerolinecolor": "white"
           },
           "yaxis": {
            "backgroundcolor": "#E5ECF6",
            "gridcolor": "white",
            "gridwidth": 2,
            "linecolor": "white",
            "showbackground": true,
            "ticks": "",
            "zerolinecolor": "white"
           },
           "zaxis": {
            "backgroundcolor": "#E5ECF6",
            "gridcolor": "white",
            "gridwidth": 2,
            "linecolor": "white",
            "showbackground": true,
            "ticks": "",
            "zerolinecolor": "white"
           }
          },
          "shapedefaults": {
           "line": {
            "color": "#2a3f5f"
           }
          },
          "ternary": {
           "aaxis": {
            "gridcolor": "white",
            "linecolor": "white",
            "ticks": ""
           },
           "baxis": {
            "gridcolor": "white",
            "linecolor": "white",
            "ticks": ""
           },
           "bgcolor": "#E5ECF6",
           "caxis": {
            "gridcolor": "white",
            "linecolor": "white",
            "ticks": ""
           }
          },
          "title": {
           "x": 0.05
          },
          "xaxis": {
           "automargin": true,
           "gridcolor": "white",
           "linecolor": "white",
           "ticks": "",
           "title": {
            "standoff": 15
           },
           "zerolinecolor": "white",
           "zerolinewidth": 2
          },
          "yaxis": {
           "automargin": true,
           "gridcolor": "white",
           "linecolor": "white",
           "ticks": "",
           "title": {
            "standoff": 15
           },
           "zerolinecolor": "white",
           "zerolinewidth": 2
          }
         }
        },
        "title": {
         "text": "Predictions for 2015-01-03"
        },
        "xaxis": {
         "title": {
          "text": "Time"
         }
        },
        "yaxis": {
         "title": {
          "text": "Predicted Value"
         }
        }
       }
      }
     },
     "metadata": {},
     "output_type": "display_data"
    }
   ],
   "source": [
    "import pandas as pd\n",
    "import numpy as np\n",
    "import pickle\n",
    "from sklearn.preprocessing import StandardScaler\n",
    "import plotly.graph_objects as go\n",
    "from datetime import datetime, timedelta\n",
    "\n",
    "# Load the trained model and scaler\n",
    "with open('gru_model.pkl', 'rb') as file:\n",
    "    loaded_model = pickle.load(file)\n",
    "\n",
    "with open('scaler.pkl', 'rb') as file:\n",
    "    scaler = pickle.load(file)\n",
    "\n",
    "def predict_and_plot_day(date_str, feature_values):\n",
    "    \"\"\"\n",
    "    Predicts values for each hour of the given day and plots the results.\n",
    "    \n",
    "    :param date_str: The date string in 'YYYY-MM-DD' format.\n",
    "    :param feature_values: A dictionary containing fixed values for the features (excluding datetime).\n",
    "    \"\"\"\n",
    "    # Define the date and time range for the whole day (00:00 to 23:00)\n",
    "    start_time = datetime.strptime(date_str, '%Y-%m-%d')\n",
    "    end_time = start_time + timedelta(days=1)\n",
    "    time_range = pd.date_range(start=start_time, end=end_time - timedelta(hours=1), freq='H')  # End at 23:00\n",
    "\n",
    "    # Prepare the DataFrame for predictions\n",
    "    data = []\n",
    "    for timestamp in time_range:\n",
    "        row = feature_values.copy()\n",
    "        row['month'] = timestamp.month\n",
    "        row['hour'] = timestamp.hour\n",
    "        row['day'] = timestamp.day\n",
    "        row['hour_sin'] = np.sin(2 * np.pi * timestamp.hour / 24)\n",
    "        row['hour_cos'] = np.cos(2 * np.pi * timestamp.hour / 24)\n",
    "        data.append(row)\n",
    "\n",
    "    df = pd.DataFrame(data)\n",
    "\n",
    "    # Ensure all feature columns are present\n",
    "    feature_columns = ['month', 'hour', 'day', 'hour_sin', 'hour_cos', 'QV2M_toc', 'TQL_toc', 'W2M_toc', 'QV2M_san', 'TQL_san', 'W2M_san', 'QV2M_dav', 'TQL_dav', 'W2M_dav', 'T2M_toc', 'T2M_san', 'T2M_dav', 'holiday']\n",
    "    df = df[feature_columns]\n",
    "\n",
    "    # Scale the features\n",
    "    df_scaled = scaler.transform(df)\n",
    "\n",
    "    # Reshape the data to fit the model's input shape\n",
    "    df_reshaped = df_scaled.reshape(df_scaled.shape[0], 1, df_scaled.shape[1])\n",
    "\n",
    "    # Predict using the loaded model\n",
    "    predictions = loaded_model.predict(df_reshaped).flatten()\n",
    "\n",
    "    # Plot the results using Plotly\n",
    "    fig = go.Figure()\n",
    "    fig.add_trace(go.Scatter(x=time_range, y=predictions, mode='lines+markers', name='Predictions'))\n",
    "    fig.update_layout(title=f'Predictions for {date_str}',\n",
    "                      xaxis_title='Time',\n",
    "                      yaxis_title='Predicted Value')\n",
    "    fig.show()\n",
    "\n",
    "# Example usage\n",
    "feature_values = {\n",
    "    'QV2M_toc': 0.018576382,\n",
    "    'TQL_toc': 0.016174316,\n",
    "    'W2M_toc': 21.85054581787518,\n",
    "    'QV2M_san': 0.017271755,\n",
    "    'TQL_san': 0.0018553734,\n",
    "    'W2M_san': 10.328948729384228,\n",
    "    'T2M_toc': 25.865258789062523,\n",
    "    'QV2M_dav': 0.016562222,\n",
    "    'TQL_dav': 0.09609985,\n",
    "    'W2M_dav': 5.364147952093894,\n",
    "    'T2M_san': 23.482446289062523,\n",
    "    'T2M_dav': 22.662133789062523,\n",
    "    'holiday': 0\n",
    "}\n",
    "\n",
    "predict_and_plot_day('2015-01-03', feature_values)\n"
   ]
  },
  {
   "cell_type": "code",
   "execution_count": 5,
   "metadata": {},
   "outputs": [
    {
     "name": "stdout",
     "output_type": "stream",
     "text": [
      "{'Santiago, Panama': {'T2M_toc': {}, 'QV2M_toc': {}, 'TQL_toc': {}, 'W2M_toc': {}, 'T2M_san': {'00:00:00': 23.9, '01:00:00': 23.7, '02:00:00': 23.5, '03:00:00': 23.4, '04:00:00': 23.4, '05:00:00': 23.4, '06:00:00': 23.3, '07:00:00': 24.1, '08:00:00': 25.5, '09:00:00': 26.8, '10:00:00': 28.4, '11:00:00': 29.9, '12:00:00': 30.8, '13:00:00': 30.7, '14:00:00': 29.7, '15:00:00': 29.2, '16:00:00': 28.7, '17:00:00': 27.7, '18:00:00': 25.7, '19:00:00': 25.0, '20:00:00': 24.8, '21:00:00': 24.5, '22:00:00': 24.4, '23:00:00': 24.3}, 'QV2M_san': {'00:00:00': 94.71, '01:00:00': 94.71, '02:00:00': 95.28, '03:00:00': 95.27, '04:00:00': 95.27, '05:00:00': 94.69, '06:00:00': 94.69, '07:00:00': 93.02, '08:00:00': 87.65, '09:00:00': 83.15, '10:00:00': 76.63, '11:00:00': 70.69, '12:00:00': 66.73, '13:00:00': 66.31, '14:00:00': 73.24, '15:00:00': 76.3, '16:00:00': 77.14, '17:00:00': 83.25, '18:00:00': 89.27, '19:00:00': 92.5, '20:00:00': 93.05, '21:00:00': 94.17, '22:00:00': 94.16, '23:00:00': 94.73}, 'TQL_san': {'00:00:00': 0.0, '01:00:00': 0.0, '02:00:00': 0.0, '03:00:00': 0.0, '04:00:00': 0.0, '05:00:00': 0.0, '06:00:00': 0.0, '07:00:00': 0.0, '08:00:00': 0.0, '09:00:00': 0.0, '10:00:00': 0.0, '11:00:00': 0.0, '12:00:00': 0.2, '13:00:00': 0.6, '14:00:00': 1.1, '15:00:00': 0.5, '16:00:00': 0.7, '17:00:00': 1.2, '18:00:00': 2.3, '19:00:00': 0.8, '20:00:00': 0.3, '21:00:00': 0.1, '22:00:00': 0.0, '23:00:00': 0.0}, 'W2M_san': {'00:00:00': 4.7, '01:00:00': 4.7, '02:00:00': 5.0, '03:00:00': 4.7, '04:00:00': 4.3, '05:00:00': 3.6, '06:00:00': 2.5, '07:00:00': 2.2, '08:00:00': 3.2, '09:00:00': 4.3, '10:00:00': 4.3, '11:00:00': 3.6, '12:00:00': 2.9, '13:00:00': 6.1, '14:00:00': 13.3, '15:00:00': 15.8, '16:00:00': 16.6, '17:00:00': 16.6, '18:00:00': 13.7, '19:00:00': 9.0, '20:00:00': 7.9, '21:00:00': 6.8, '22:00:00': 6.5, '23:00:00': 5.8}, 'T2M_dav': {}, 'QV2M_dav': {}, 'TQL_dav': {}, 'W2M_dav': {}}, 'Tocumen, Panama': {'T2M_toc': {'00:00:00': 24.4, '01:00:00': 24.3, '02:00:00': 24.1, '03:00:00': 24.0, '04:00:00': 23.9, '05:00:00': 23.9, '06:00:00': 23.8, '07:00:00': 24.5, '08:00:00': 25.9, '09:00:00': 27.7, '10:00:00': 29.3, '11:00:00': 30.2, '12:00:00': 29.6, '13:00:00': 29.0, '14:00:00': 29.0, '15:00:00': 28.7, '16:00:00': 28.1, '17:00:00': 27.9, '18:00:00': 26.8, '19:00:00': 26.0, '20:00:00': 25.8, '21:00:00': 25.4, '22:00:00': 25.2, '23:00:00': 24.9}, 'QV2M_toc': {'00:00:00': 91.91, '01:00:00': 92.47, '02:00:00': 92.46, '03:00:00': 93.01, '04:00:00': 93.01, '05:00:00': 93.01, '06:00:00': 93.57, '07:00:00': 92.48, '08:00:00': 87.69, '09:00:00': 80.79, '10:00:00': 72.74, '11:00:00': 68.65, '12:00:00': 72.35, '13:00:00': 75.81, '14:00:00': 76.72, '15:00:00': 77.6, '16:00:00': 79.88, '17:00:00': 81.3, '18:00:00': 86.2, '19:00:00': 87.69, '20:00:00': 88.74, '21:00:00': 90.87, '22:00:00': 91.41, '23:00:00': 92.5}, 'TQL_toc': {'00:00:00': 0.0, '01:00:00': 0.0, '02:00:00': 0.0, '03:00:00': 0.0, '04:00:00': 0.0, '05:00:00': 0.0, '06:00:00': 0.0, '07:00:00': 0.0, '08:00:00': 0.0, '09:00:00': 0.0, '10:00:00': 0.0, '11:00:00': 0.1, '12:00:00': 0.2, '13:00:00': 0.1, '14:00:00': 0.6, '15:00:00': 0.6, '16:00:00': 0.8, '17:00:00': 0.6, '18:00:00': 0.3, '19:00:00': 0.0, '20:00:00': 0.0, '21:00:00': 0.1, '22:00:00': 0.0, '23:00:00': 0.0}, 'W2M_toc': {'00:00:00': 5.8, '01:00:00': 5.4, '02:00:00': 5.4, '03:00:00': 5.0, '04:00:00': 5.0, '05:00:00': 4.0, '06:00:00': 3.6, '07:00:00': 3.2, '08:00:00': 2.5, '09:00:00': 2.5, '10:00:00': 2.2, '11:00:00': 7.2, '12:00:00': 11.9, '13:00:00': 11.9, '14:00:00': 10.8, '15:00:00': 7.9, '16:00:00': 5.4, '17:00:00': 3.6, '18:00:00': 2.9, '19:00:00': 3.2, '20:00:00': 3.2, '21:00:00': 3.2, '22:00:00': 3.2, '23:00:00': 3.2}, 'T2M_san': {}, 'QV2M_san': {}, 'TQL_san': {}, 'W2M_san': {}, 'T2M_dav': {}, 'QV2M_dav': {}, 'TQL_dav': {}, 'W2M_dav': {}}, 'David, Panama': {'T2M_toc': {}, 'QV2M_toc': {}, 'TQL_toc': {}, 'W2M_toc': {}, 'T2M_san': {}, 'QV2M_san': {}, 'TQL_san': {}, 'W2M_san': {}, 'T2M_dav': {'00:00:00': 23.9, '01:00:00': 23.8, '02:00:00': 23.7, '03:00:00': 23.6, '04:00:00': 23.6, '05:00:00': 23.5, '06:00:00': 23.2, '07:00:00': 24.0, '08:00:00': 25.2, '09:00:00': 26.5, '10:00:00': 27.7, '11:00:00': 28.8, '12:00:00': 29.7, '13:00:00': 29.6, '14:00:00': 28.6, '15:00:00': 28.3, '16:00:00': 27.7, '17:00:00': 26.8, '18:00:00': 25.5, '19:00:00': 24.6, '20:00:00': 24.7, '21:00:00': 24.7, '22:00:00': 24.7, '23:00:00': 24.5}, 'QV2M_dav': {'00:00:00': 90.77, '01:00:00': 90.77, '02:00:00': 91.32, '03:00:00': 91.31, '04:00:00': 90.75, '05:00:00': 91.3, '06:00:00': 91.28, '07:00:00': 90.23, '08:00:00': 85.01, '09:00:00': 80.15, '10:00:00': 75.15, '11:00:00': 70.06, '12:00:00': 68.14, '13:00:00': 69.79, '14:00:00': 75.29, '15:00:00': 76.62, '16:00:00': 78.87, '17:00:00': 82.15, '18:00:00': 89.25, '19:00:00': 91.93, '20:00:00': 91.38, '21:00:00': 91.93, '22:00:00': 91.93, '23:00:00': 91.92}, 'TQL_dav': {'00:00:00': 0.0, '01:00:00': 0.0, '02:00:00': 0.0, '03:00:00': 0.0, '04:00:00': 0.0, '05:00:00': 0.0, '06:00:00': 0.0, '07:00:00': 0.0, '08:00:00': 0.0, '09:00:00': 0.0, '10:00:00': 0.0, '11:00:00': 0.0, '12:00:00': 0.1, '13:00:00': 0.8, '14:00:00': 1.7, '15:00:00': 2.1, '16:00:00': 2.0, '17:00:00': 2.0, '18:00:00': 1.4, '19:00:00': 0.5, '20:00:00': 0.2, '21:00:00': 0.1, '22:00:00': 0.0, '23:00:00': 0.0}, 'W2M_dav': {'00:00:00': 1.1, '01:00:00': 2.9, '02:00:00': 2.5, '03:00:00': 1.4, '04:00:00': 1.1, '05:00:00': 1.8, '06:00:00': 2.5, '07:00:00': 3.2, '08:00:00': 1.4, '09:00:00': 3.6, '10:00:00': 7.2, '11:00:00': 8.3, '12:00:00': 10.4, '13:00:00': 13.3, '14:00:00': 13.3, '15:00:00': 11.9, '16:00:00': 11.5, '17:00:00': 9.7, '18:00:00': 5.8, '19:00:00': 4.3, '20:00:00': 2.2, '21:00:00': 1.8, '22:00:00': 1.8, '23:00:00': 3.2}}}\n"
     ]
    }
   ],
   "source": [
    "import requests\n",
    "import concurrent.futures\n",
    "\n",
    "def fetch_weather_data(location, start_date, end_date, api_key):\n",
    "    # Construct the API URL with the custom location, dates, and API key\n",
    "    url = (\n",
    "        f\"https://weather.visualcrossing.com/VisualCrossingWebServices/rest/services/timeline/\"\n",
    "        f\"{location}/{start_date}/{end_date}?\"\n",
    "        f\"unitGroup=metric&key={api_key}&contentType=json\"\n",
    "    )\n",
    "\n",
    "    # Make the request to the API\n",
    "    response = requests.get(url)\n",
    "    \n",
    "    # Check if the request was successful\n",
    "    if response.status_code != 200:\n",
    "        return {\"error\": f\"Failed to fetch data for {location}, status code: {response.status_code}\"}\n",
    "    \n",
    "    return response.json()\n",
    "\n",
    "def extract_weather_info(data):\n",
    "    weather_info = {\n",
    "        \"T2M_toc\": {},\n",
    "        \"QV2M_toc\": {},\n",
    "        \"TQL_toc\": {},\n",
    "        \"W2M_toc\": {},\n",
    "        \"T2M_san\": {},\n",
    "        \"QV2M_san\": {},\n",
    "        \"TQL_san\": {},\n",
    "        \"W2M_san\": {},\n",
    "        \"T2M_dav\": {},\n",
    "        \"QV2M_dav\": {},\n",
    "        \"TQL_dav\": {},\n",
    "        \"W2M_dav\": {}\n",
    "    }\n",
    "\n",
    "    address_mapping = {\n",
    "        \"Tocumen, Panama\": \"toc\",\n",
    "        \"Santiago, Panama\": \"san\",\n",
    "        \"David, Panama\": \"dav\"\n",
    "    }\n",
    "\n",
    "    address = data.get(\"address\")\n",
    "    location_key = address_mapping.get(address)\n",
    "\n",
    "    if location_key:\n",
    "        for day in data.get(\"days\", []):\n",
    "            for hour in day.get(\"hours\", []):\n",
    "                hour_time = hour.get(\"datetime\")\n",
    "                weather_info[f\"T2M_{location_key}\"][hour_time] = hour.get(\"temp\")\n",
    "                weather_info[f\"QV2M_{location_key}\"][hour_time] = hour.get(\"humidity\")\n",
    "                weather_info[f\"TQL_{location_key}\"][hour_time] = hour.get(\"precip\")\n",
    "                weather_info[f\"W2M_{location_key}\"][hour_time] = hour.get(\"windspeed\")\n",
    "\n",
    "    return weather_info\n",
    "\n",
    "def fetch_and_extract_weather_for_all_locations(locations, start_date, end_date, api_key):\n",
    "    total_weather_info = {}\n",
    "\n",
    "    with concurrent.futures.ThreadPoolExecutor() as executor:\n",
    "        future_to_location = {\n",
    "            executor.submit(fetch_weather_data, location, start_date, end_date, api_key): location\n",
    "            for location in locations\n",
    "        }\n",
    "        \n",
    "        for future in concurrent.futures.as_completed(future_to_location):\n",
    "            location = future_to_location[future]\n",
    "            try:\n",
    "                data = future.result()\n",
    "                weather_info = extract_weather_info(data)\n",
    "                total_weather_info[location] = weather_info\n",
    "            except Exception as e:\n",
    "                print(f\"An error occurred for {location}: {e}\")\n",
    "\n",
    "    return total_weather_info\n",
    "\n",
    "# Custom locations and dates\n",
    "locations = [\"Santiago, Panama\", \"David, Panama\", \"Tocumen, Panama\"]\n",
    "start_date = \"2024-09-09\"\n",
    "end_date = \"2024-09-10\"  # Customize end_date as needed\n",
    "\n",
    "# Your API key\n",
    "api_key = \"7JZFXVY7Q5AHKJC25Z7KJKRDW\"\n",
    "\n",
    "# Fetch and extract weather data for all locations with custom dates\n",
    "total_weather_info = fetch_and_extract_weather_for_all_locations(locations, start_date, end_date, api_key)\n",
    "\n",
    "# Print the extracted data for all locations\n",
    "print(total_weather_info)\n"
   ]
  },
  {
   "cell_type": "code",
   "execution_count": 4,
   "metadata": {},
   "outputs": [
    {
     "name": "stdout",
     "output_type": "stream",
     "text": [
      "{'00:00': [None, None, None, None, None, None, None, None, None, None, None, None, 23.9, 94.71, 0.0, 7.2, 23.9, 94.71, 0.0, 4.7, 23.6, 91.31, 0.0, 2.5, 23.9, 90.77, 0.0, 1.1, 25.8, 89.27, 0.0, 2.9, 24.4, 91.91, 0.0, 5.8], '01:00': [None, None, None, None, None, None, None, None, None, None, None, None, 23.5, 95.85, 0.0, 6.8, 23.7, 94.71, 0.0, 4.7, 23.3, 92.41, 0.0, 3.6, 23.8, 90.77, 0.0, 2.9, 25.6, 90.34, 0.2, 3.6, 24.3, 92.47, 0.0, 5.4], '02:00': [None, None, None, None, None, None, None, None, None, None, None, None, 23.5, 95.28, 0.0, 6.1, 23.5, 95.28, 0.0, 5.0, 23.1, 92.97, 0.0, 3.6, 23.7, 91.32, 0.0, 2.5, 25.5, 90.33, 0.1, 4.0, 24.1, 92.46, 0.0, 5.4], '03:00': [None, None, None, None, None, None, None, None, None, None, None, None, 23.3, 95.85, 0.0, 5.4, 23.4, 95.27, 0.0, 4.7, 23.1, 92.4, 0.0, 5.8, 23.6, 91.31, 0.0, 1.4, 25.4, 90.33, 0.1, 4.7, 24.0, 93.01, 0.0, 5.0], '04:00': [None, None, None, None, None, None, None, None, None, None, None, None, 23.2, 95.85, 0.0, 5.8, 23.4, 95.27, 0.0, 4.3, 23.2, 90.73, 0.0, 4.3, 23.6, 90.75, 0.0, 1.1, 25.2, 91.41, 0.0, 4.7, 23.9, 93.01, 0.0, 5.0], '05:00': [None, None, None, None, None, None, None, None, None, None, None, None, 23.2, 95.85, 0.0, 5.4, 23.4, 94.69, 0.0, 3.6, 23.1, 90.72, 0.0, 2.5, 23.5, 91.3, 0.0, 1.8, 25.0, 92.5, 0.1, 5.4, 23.9, 93.01, 0.0, 4.0], '06:00': [None, None, None, None, None, None, None, None, None, None, None, None, 23.2, 95.26, 0.0, 5.0, 23.3, 94.69, 0.0, 2.5, 23.0, 90.71, 0.0, 1.8, 23.2, 91.28, 0.0, 2.5, 24.9, 93.06, 0.1, 6.1, 23.8, 93.57, 0.0, 3.6], '07:00': [None, None, None, None, None, None, None, None, None, None, None, None, 24.0, 93.58, 0.0, 4.7, 24.1, 93.02, 0.0, 2.2, 23.8, 88.58, 0.0, 2.9, 24.0, 90.23, 0.0, 3.2, 25.5, 91.43, 0.0, 6.8, 24.5, 92.48, 0.0, 3.2], '08:00': [None, None, None, None, None, None, None, None, None, None, None, None, 25.4, 89.78, 0.0, 6.1, 25.5, 87.65, 0.0, 3.2, 25.0, 82.43, 0.0, 0.7, 25.2, 85.01, 0.0, 1.4, 26.4, 88.79, 0.4, 6.5, 25.9, 87.69, 0.0, 2.5], '09:00': [None, None, None, None, None, None, None, None, None, None, None, None, 27.0, 83.67, 0.0, 7.6, 26.8, 83.15, 0.0, 4.3, 25.8, 79.57, 0.0, 4.0, 26.5, 80.15, 0.0, 3.6, 27.5, 83.73, 1.5, 8.3, 27.7, 80.79, 0.0, 2.5], '10:00': [None, None, None, None, None, None, None, None, None, None, None, None, 28.4, 78.03, 0.1, 8.6, 28.4, 76.63, 0.0, 4.3, 26.6, 76.83, 0.0, 5.8, 27.7, 75.15, 0.0, 7.2, 28.3, 78.95, 0.7, 9.4, 29.3, 72.74, 0.0, 2.2], '11:00': [None, None, None, None, None, None, None, None, None, None, None, None, 29.5, 72.77, 0.1, 9.4, 29.9, 70.69, 0.0, 3.6, 27.8, 72.48, 0.0, 6.8, 28.8, 70.06, 0.0, 8.3, 28.1, 80.84, 2.0, 11.2, 30.2, 68.65, 0.1, 7.2], '12:00': [None, None, None, None, None, None, None, None, None, None, None, None, 29.5, 72.77, 0.6, 9.4, 30.8, 66.73, 0.2, 2.9, 28.8, 68.8, 0.1, 9.0, 29.7, 68.14, 0.1, 10.4, 28.1, 79.88, 0.8, 9.7, 29.6, 72.35, 0.2, 11.9], '13:00': [None, None, None, None, None, None, None, None, None, None, None, None, 28.7, 78.54, 3.4, 13.7, 30.7, 66.31, 0.6, 6.1, 29.5, 67.69, 0.3, 10.4, 29.6, 69.79, 0.8, 13.3, 28.1, 78.93, 0.3, 8.6, 29.0, 75.81, 0.1, 11.9], '14:00': [None, None, None, None, None, None, None, None, None, None, None, None, 28.2, 79.89, 2.5, 12.6, 29.7, 73.24, 1.1, 13.3, 28.5, 73.93, 2.0, 13.0, 28.6, 75.29, 1.7, 13.3, 27.8, 80.8, 0.4, 7.6, 29.0, 76.72, 0.6, 10.8], '15:00': [None, None, None, None, None, None, None, None, None, None, None, None, 28.5, 78.04, 1.5, 11.9, 29.2, 76.3, 0.5, 15.8, 27.7, 77.93, 3.1, 11.2, 28.3, 76.62, 2.1, 11.9, 27.7, 79.83, 0.2, 5.4, 28.7, 77.6, 0.6, 7.9], '16:00': [None, None, None, None, None, None, None, None, None, None, None, None, 27.8, 80.8, 1.5, 10.4, 28.7, 77.14, 0.7, 16.6, 27.1, 80.71, 3.1, 9.0, 27.7, 78.87, 2.0, 11.5, 27.6, 80.29, 0.6, 5.0, 28.1, 79.88, 0.8, 5.4], '17:00': [None, None, None, None, None, None, None, None, None, None, None, None, 26.8, 86.2, 1.2, 10.4, 27.7, 83.25, 1.2, 16.6, 25.4, 88.71, 3.2, 7.9, 26.8, 82.15, 2.0, 9.7, 26.9, 85.18, 0.5, 4.7, 27.9, 81.3, 0.6, 3.6], '18:00': [None, None, None, None, None, None, None, None, None, None, None, None, 25.3, 90.87, 1.5, 8.6, 25.7, 89.27, 2.3, 13.7, 25.0, 89.76, 1.6, 3.2, 25.5, 89.25, 1.4, 5.8, 26.4, 86.68, 0.0, 4.7, 26.8, 86.2, 0.3, 2.9], '19:00': [None, None, None, None, None, None, None, None, None, None, None, None, 24.5, 92.48, 0.9, 6.8, 25.0, 92.5, 0.8, 9.0, 24.8, 89.74, 0.7, 2.5, 24.6, 91.93, 0.5, 4.3, 25.7, 88.2, 0.1, 3.2, 26.0, 87.69, 0.0, 3.2], '20:00': [None, None, None, None, None, None, None, None, None, None, None, None, 24.5, 92.48, 0.4, 5.4, 24.8, 93.05, 0.3, 7.9, 24.6, 90.27, 0.9, 0.7, 24.7, 91.38, 0.2, 2.2, 25.5, 88.72, 0.0, 3.6, 25.8, 88.74, 0.0, 3.2], '21:00': [None, None, None, None, None, None, None, None, None, None, None, None, 24.5, 92.48, 0.0, 4.3, 24.5, 94.17, 0.1, 6.8, 24.4, 89.71, 0.4, 2.5, 24.7, 91.93, 0.1, 1.8, 25.1, 90.31, 0.1, 4.3, 25.4, 90.87, 0.1, 3.2], '22:00': [None, None, None, None, None, None, None, None, None, None, None, None, 24.3, 93.59, 0.0, 4.3, 24.4, 94.16, 0.0, 6.5, 24.2, 91.35, 0.1, 4.0, 24.7, 91.93, 0.0, 1.8, 24.8, 91.38, 0.0, 5.4, 25.2, 91.41, 0.0, 3.2], '23:00': [None, None, None, None, None, None, None, None, None, None, None, None, 24.2, 93.59, 0.0, 4.3, 24.3, 94.73, 0.0, 5.8, 24.2, 90.24, 0.0, 3.6, 24.5, 91.92, 0.0, 3.2, 24.5, 91.92, 0.0, 5.4, 24.9, 92.5, 0.0, 3.2]}\n"
     ]
    }
   ],
   "source": [
    "import requests\n",
    "\n",
    "def fetch_weather_data(location, start_date, end_date, api_key):\n",
    "    url = (\n",
    "        f\"https://weather.visualcrossing.com/VisualCrossingWebServices/rest/services/timeline/\"\n",
    "        f\"{location}/{start_date}/{end_date}?\"\n",
    "        f\"unitGroup=metric&key={api_key}&contentType=json\"\n",
    "    )\n",
    "\n",
    "    response = requests.get(url)\n",
    "    \n",
    "    if response.status_code != 200:\n",
    "        return None\n",
    "    \n",
    "    return response.json()\n",
    "\n",
    "def process_weather_data(data, location_key):\n",
    "    weather_dict = {}\n",
    "    for day in data.get(\"days\", []):\n",
    "        for hour in day.get(\"hours\", []):\n",
    "            hour_key = hour.get(\"datetime\", \"\").split(\":\")[0] + \":00\"  # Format hour\n",
    "            if hour_key not in weather_dict:\n",
    "                weather_dict[hour_key] = []\n",
    "            \n",
    "            weather_dict[hour_key].append({\n",
    "                f\"T2M_{location_key}\": hour.get(\"temp\"),\n",
    "                f\"QV2M_{location_key}\": hour.get(\"humidity\"),\n",
    "                f\"TQL_{location_key}\": hour.get(\"precip\"),\n",
    "                f\"W2M_{location_key}\": hour.get(\"windspeed\")\n",
    "            })\n",
    "    \n",
    "    return weather_dict\n",
    "\n",
    "def aggregate_weather_data(locations, start_date, end_date, api_key):\n",
    "    total_weather_info = {}\n",
    "    \n",
    "    for location in locations:\n",
    "        data = fetch_weather_data(location, start_date, end_date, api_key)\n",
    "        if data:\n",
    "            location_key = location.split(\",\")[0].lower()\n",
    "            location_weather = process_weather_data(data, location_key)\n",
    "            \n",
    "            for hour, values in location_weather.items():\n",
    "                if hour not in total_weather_info:\n",
    "                    total_weather_info[hour] = [None] * len(locations) * 4  # 4 features per location\n",
    "                total_weather_info[hour].extend([value for feature in values for value in feature.values()])\n",
    "    \n",
    "    return total_weather_info\n",
    "\n",
    "# Custom locations and dates\n",
    "locations = [\"Santiago, Panama\", \"David, Panama\", \"Tocumen, Panama\"]\n",
    "start_date = \"2024-09-09\"\n",
    "end_date = \"2024-09-10\"  # Customize end_date as needed\n",
    "\n",
    "# Your API key\n",
    "api_key = \"7JZFXVY7Q5AHKJC25Z7KJKRDW\"\n",
    "\n",
    "# Fetch and extract weather data for all locations with custom dates\n",
    "total_weather_info = aggregate_weather_data(locations, start_date, end_date, api_key)\n",
    "\n",
    "# Print the aggregated data\n",
    "print(total_weather_info)\n"
   ]
  },
  {
   "cell_type": "code",
   "execution_count": 17,
   "metadata": {},
   "outputs": [],
   "source": [
    "def fetch_weather_data(location, start_date, end_date, api_key):\n",
    "    url = (\n",
    "        f\"https://weather.visualcrossing.com/VisualCrossingWebServices/rest/services/timeline/\"\n",
    "        f\"{location}/{start_date}/{end_date}?\"\n",
    "        f\"unitGroup=metric&key={api_key}&contentType=json\"\n",
    "    )\n",
    "    response = requests.get(url)\n",
    "    if response.status_code != 200:\n",
    "        return {\"error\": f\"Failed to fetch data for {location}, status code: {response.status_code}\"}\n",
    "    \n",
    "    data = response.json()\n",
    "    return data\n",
    "\n",
    "def extract_weather_info(data):\n",
    "    print(\"extracting data\")\n",
    "    weather_info = {\n",
    "        \"T2M_toc\": {},\n",
    "        \"QV2M_toc\": {},\n",
    "        \"TQL_toc\": {},\n",
    "        \"W2M_toc\": {},\n",
    "        \"T2M_san\": {},\n",
    "        \"QV2M_san\": {},\n",
    "        \"TQL_san\": {},\n",
    "        \"W2M_san\": {},\n",
    "        \"T2M_dav\": {},\n",
    "        \"QV2M_dav\": {},\n",
    "        \"TQL_dav\": {},\n",
    "        \"W2M_dav\": {}\n",
    "    }\n",
    "\n",
    "    address_mapping = {\n",
    "        \"Tocumen, Panama\": \"toc\",\n",
    "        \"Santiago, Panama\": \"san\",\n",
    "        \"David, Panama\": \"dav\"\n",
    "    }\n",
    "\n",
    "    address = data.get(\"address\")\n",
    "    location_key = address_mapping.get(address)\n",
    "    if location_key:\n",
    "        for day in data.get(\"days\", []):\n",
    "            for hour in day.get(\"hours\", []):\n",
    "                hour_time = hour.get(\"datetime\")\n",
    "                hour_str = hour_time\n",
    "                weather_info[f\"T2M_{location_key}\"][hour_str] = hour.get(\"temp\")\n",
    "                weather_info[f\"QV2M_{location_key}\"][hour_str] = hour.get(\"humidity\")\n",
    "                weather_info[f\"TQL_{location_key}\"][hour_str] = hour.get(\"precip\")\n",
    "                weather_info[f\"W2M_{location_key}\"][hour_str] = hour.get(\"windspeed\")\n",
    "\n",
    "    return weather_info\n",
    "import requests\n",
    "import concurrent.futures\n",
    "import pandas as pd\n",
    "import numpy as np\n",
    "import pickle\n",
    "from flask import Flask, render_template, request\n",
    "from sklearn.preprocessing import StandardScaler\n",
    "import plotly.graph_objects as go\n",
    "from datetime import datetime, timedelta\n",
    "import keras\n",
    "def fetch_and_extract_weather_for_all_locations(locations, start_date, end_date, api_key):\n",
    "    print(\"fetching data for all locations\")\n",
    "    total_weather_info = {}\n",
    "\n",
    "    with concurrent.futures.ThreadPoolExecutor() as executor:\n",
    "        future_to_location = {\n",
    "            executor.submit(fetch_weather_data, location, start_date, end_date, api_key): location\n",
    "            for location in locations\n",
    "        }\n",
    "\n",
    "        for future in concurrent.futures.as_completed(future_to_location):\n",
    "            location = future_to_location[future]\n",
    "            try:\n",
    "                data = future.result()\n",
    "                print(\"Input data for combining\")\n",
    "                print(data)\n",
    "                weather_info = extract_weather_info(data)\n",
    "                total_weather_info[location] = weather_info\n",
    "            except Exception as e:\n",
    "                print(f\"An error occurred for {location}: {e}\")\n",
    "    return total_weather_info\n",
    "def flatten_weather_info(total_weather_info):\n",
    "    flattened_weather_info = {}\n",
    "\n",
    "    # Iterate through each location's weather data\n",
    "    for location, weather_data in total_weather_info.items():\n",
    "        for key, value in weather_data.items():\n",
    "            # If the key already exists, merge the values\n",
    "            if key in flattened_weather_info:\n",
    "                flattened_weather_info[key].update(value)\n",
    "            else:\n",
    "                flattened_weather_info[key] = value\n",
    "\n",
    "    return flattened_weather_info\n",
    "\n",
    "locations = [\"Santiago, Panama\", \"David, Panama\", \"Tocumen, Panama\"]\n",
    "api_key = \"7JZFXVY7Q5AHKJC25Z7KJKRDW\"  # Replace with your actual API key\n",
    "start_date = \"2024-09-09\"\n",
    "end_date = start_date\n",
    "weather_data = fetch_and_extract_weather_for_all_locations(locations, start_date, end_date, api_key)\n",
    "weather_data_final=flatten_weather_info(weather_data)\n",
    "print(weather_data_final)"
   ]
  }
 ],
 "metadata": {
  "kernelspec": {
   "display_name": "base",
   "language": "python",
   "name": "python3"
  },
  "language_info": {
   "codemirror_mode": {
    "name": "ipython",
    "version": 3
   },
   "file_extension": ".py",
   "mimetype": "text/x-python",
   "name": "python",
   "nbconvert_exporter": "python",
   "pygments_lexer": "ipython3",
   "version": "3.11.4"
  }
 },
 "nbformat": 4,
 "nbformat_minor": 2
}
